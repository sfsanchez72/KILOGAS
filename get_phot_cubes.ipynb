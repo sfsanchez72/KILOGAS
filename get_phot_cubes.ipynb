{
 "cells": [
  {
   "cell_type": "code",
   "execution_count": 1,
   "id": "70093dfa",
   "metadata": {},
   "outputs": [],
   "source": [
    "from astropy.io import fits\n",
    "import numpy as np\n",
    "from typing import Tuple\n",
    "import math"
   ]
  },
  {
   "cell_type": "code",
   "execution_count": 10,
   "id": "d1a43d79",
   "metadata": {},
   "outputs": [
    {
     "name": "stdout",
     "output_type": "stream",
     "text": [
      "2.2.0\n",
      "2.2.0\n"
     ]
    }
   ],
   "source": [
    "%matplotlib inline\n",
    "import numpy as np\n",
    "import pandas as pd\n",
    "from pylab import *\n",
    "import matplotlib\n",
    "#import plplot\n",
    "from scipy import stats#from io import StringIO\n",
    "print(pd.__version__)\n",
    "#AttributeError: 'Series' object has no attribute 'to_numpy'\n",
    "import re\n",
    "\n",
    "import math\n",
    "import astropy as astro\n",
    "import scipy.ndimage as spimage\n",
    "from astropy.io import fits, ascii\n",
    "from astropy.table import Table, join, vstack\n",
    "from astropy.cosmology import WMAP9 as cosmo\n",
    "import matplotlib as mpl\n",
    "#from numpy import std as biweight_midvariance\n",
    "import matplotlib.cm as cm\n",
    "\n",
    "from scipy import optimize\n",
    "import scipy.stats as stats\n",
    "from scipy.stats import gaussian_kde\n",
    "from matplotlib import colors\n",
    "import scipy.ndimage as ndimage\n",
    "from collections import Counter\n",
    "from matplotlib.legend import Legend\n",
    "import matplotlib.patches as patches\n",
    "from matplotlib import pyplot\n",
    "#\n",
    "#\n",
    "#\n",
    "import extinction\n",
    "\n",
    "\n",
    "#\n",
    "# seaborn\n",
    "# import pandas.util.testing as tm\n",
    "import seaborn as sns\n",
    "\n",
    "#\n",
    "# Jorge\n",
    "#\n",
    "\n",
    "from sel2dhist_xy import sel2dhist_xy\n",
    "\n",
    "\n",
    "#\n",
    "# 3D plots!\n",
    "#\n",
    "import numpy as np\n",
    "import scipy.linalg\n",
    "from mpl_toolkits.mplot3d import Axes3D\n",
    "import matplotlib.pyplot as plt\n",
    "\n",
    "#biweight_midvariance\n",
    "\n",
    "\n",
    "import warnings\n",
    "warnings.simplefilter(\"ignore\")\n",
    "\n",
    "#\n",
    "# my_utils\n",
    "#\n",
    "from my_utils import *\n",
    "\n",
    "#\n",
    "#\n",
    "#\n",
    "from ndtest import *\n",
    "from sklearn.decomposition import PCA\n",
    "\n",
    "#\n",
    "#\n",
    "#\n",
    "from scipy.optimize import leastsq, fmin\n",
    "import matplotlib.animation as animation\n",
    "\n",
    "#\n",
    "# Carlos Color map\n",
    "#\n",
    "from cmaps_CLC import vel_map\n",
    "\n"
   ]
  },
  {
   "cell_type": "code",
   "execution_count": 11,
   "id": "106f1b7c",
   "metadata": {},
   "outputs": [],
   "source": [
    "def create_circular_mask(h: int, w: int, center: Tuple[int, int], radius: int) -> np.ndarray:\n",
    "    \"\"\"Create a boolean mask for a circle centered at `center` with given `radius`.\"\"\"\n",
    "    Y, X = np.ogrid[:h, :w]\n",
    "    dist_from_center = np.sqrt((X - center[0])**2 + (Y - center[1])**2)\n",
    "    return dist_from_center <= radius\n",
    "\n",
    "def extract_values_from_cube(fits_path: str, x: int, y: int, radius: int) -> np.ndarray:\n",
    "    \"\"\"Extract average values (or quadratic average for errors) from FITS datacube slice-by-slice.\"\"\"\n",
    "    \n",
    "    with fits.open(fits_path) as hdul:\n",
    "        data = hdul[0].data  # shape: (z, y, x)\n",
    "        header = hdul[0].header\n",
    "    desc_entries = extract_desc_entries(header)\n",
    "    \n",
    "    if data.ndim != 3:\n",
    "        raise ValueError(\"Input FITS file must contain a 3D datacube.\")\n",
    "\n",
    "    nz, ny, nx = data.shape\n",
    "\n",
    "    if not (0 <= x < nx and 0 <= y < ny):\n",
    "        x = int(nx/2.0)\n",
    "        y = int(ny/2.0)\n",
    "#        raise ValueError(\"Provided (x, y) coordinates are outside the image bounds.\")\n",
    "\n",
    "#    print(x,y)\n",
    "    mask = create_circular_mask(ny, nx, center=(x, y), radius=radius)\n",
    "\n",
    "    result = []\n",
    "\n",
    "    for z in range(nz):\n",
    "        desc_key = f'DESC{z}'\n",
    "        desc = header.get(desc_key, '')\n",
    "\n",
    "        slice_data = data[z, :, :]\n",
    "        values = slice_data[mask]\n",
    "\n",
    "        if values.size == 0:\n",
    "            result.append(np.nan)\n",
    "            continue\n",
    "\n",
    "        if desc.startswith('e_'):\n",
    "            quadratic_mean = math.sqrt(np.mean(values ** 2))\n",
    "            result.append(quadratic_mean)\n",
    "        else:\n",
    "            simple_mean = np.mean(values)\n",
    "            result.append(simple_mean)\n",
    "\n",
    "    return np.array(result),desc_entries\n",
    "\n",
    "def extract_desc_entries(header):\n",
    "    \"\"\"Extract DESC# entries from FITS header as an array sorted by slice index.\"\"\"\n",
    "    desc_entries = []\n",
    "    z_indices = []\n",
    "\n",
    "    for key in header.keys():\n",
    "        if key.startswith('DESC') and key[4:].isdigit():\n",
    "            z_indices.append(int(key[4:]))\n",
    "\n",
    "    z_indices.sort()\n",
    "\n",
    "    for z in z_indices:\n",
    "        desc_key = f'DESC{z}'\n",
    "        desc_entries.append(header.get(desc_key, ''))\n",
    "\n",
    "    return desc_entries\n"
   ]
  },
  {
   "cell_type": "code",
   "execution_count": 24,
   "id": "afdb51b8",
   "metadata": {},
   "outputs": [],
   "source": [
    "import pyphot\n",
    "import os"
   ]
  },
  {
   "cell_type": "code",
   "execution_count": null,
   "id": "c30ab17c",
   "metadata": {},
   "outputs": [],
   "source": [
    "# Ensure pyphot is installed\n",
    "# %pip install pyphot\n",
    "\n",
    "# Import FilterLibrary from pyphot\n",
    "#from pyphot import FilterLibrary\n",
    "from astropy.wcs import WCS\n",
    "from pyphot import unit\n",
    "import pyphot\n",
    "\n",
    "def extract_photometry_with_errors(fits_path: str):\n",
    "    \"\"\"Extract photometry (flux) in u, g, r, i-bands with errors using Monte Carlo propagation.\"\"\"\n",
    "    with fits.open(fits_path) as hdul:\n",
    "        flux_cube = hdul[0].data  # Flux datacube\n",
    "        error_cube = hdul[1].data  # Error datacube\n",
    "        header = hdul[0].header\n",
    "\n",
    "    if flux_cube.ndim != 3 or error_cube.ndim != 3:\n",
    "        raise ValueError(\"Input FITS file must contain 3D flux and error datacubes.\")\n",
    "\n",
    "    nz, ny, nx = flux_cube.shape\n",
    "\n",
    "    # Extract wavelength solution from WCS\n",
    "    #wcs = WCS(header)\n",
    "    wavelengths = header['CRVAL3']+ header['CDELT3']*np.arange(nz)\n",
    "\n",
    "    # Load filter library\n",
    "    #lib = FilterLibrary()\n",
    "    wavelengths  = wavelengths * unit['AA']\n",
    "    print(wavelengths)\n",
    "    #flux = flux * unit['erg/s/cm**2/AA']\n",
    "    lib = pyphot.get_library()\n",
    "    filters = {band: lib[band] for band in ['SDSS_u', 'SDSS_g', 'SDSS_r', 'SDSS_i']}\n",
    "\n",
    "    photometry = {}\n",
    "    errors = {}\n",
    "\n",
    "    for band, filt in filters.items():\n",
    "        band_fluxes = []\n",
    "        for _ in range(100):  # Monte Carlo iterations\n",
    "            perturbed_flux = flux_cube + np.random.normal(0, error_cube)\n",
    "            for j in range(ny):\n",
    "                for i in range(nx):\n",
    "                    print(i,j)\n",
    "                    spectrum = perturbed_flux[:,j,i]\n",
    "                    band_flux = filt.get_flux(wavelengths, spectrum * 10e-16 * unit['erg/s/cm**2/AA'])\n",
    "                    band_fluxes.append(band_flux)\n",
    "        photometry[band] = np.mean(band_fluxes)\n",
    "        errors[band] = np.std(band_fluxes)\n",
    "    return photometry, errors"
   ]
  },
  {
   "cell_type": "code",
   "execution_count": 61,
   "id": "86a89362",
   "metadata": {},
   "outputs": [],
   "source": [
    "def read_filt(filt_path: str):\n",
    "    \"\"\"Read filter data from a file.\"\"\"\n",
    "    with open(filt_path, 'r') as f:\n",
    "        lines = f.readlines()\n",
    "    wavelengths = []\n",
    "    transmissions = []\n",
    "    for line in lines:\n",
    "        if not line.startswith('#'):\n",
    "            parts = line.split()\n",
    "            if len(parts) == 2:\n",
    "                wavelengths.append(float(parts[0]))\n",
    "                transmissions.append(float(parts[1]))\n",
    "            elif len(parts) == 3:\n",
    "                wavelengths.append(float(parts[1]))\n",
    "                transmissions.append(float(parts[2]))\n",
    "    return np.array(wavelengths), np.array(transmissions)"
   ]
  },
  {
   "cell_type": "code",
   "execution_count": 64,
   "id": "1fc007ab",
   "metadata": {},
   "outputs": [
    {
     "data": {
      "text/plain": [
       "[<matplotlib.lines.Line2D at 0x7fd0ac1dbfd0>]"
      ]
     },
     "execution_count": 64,
     "metadata": {},
     "output_type": "execute_result"
    },
    {
     "data": {
      "image/png": "[encoded data removed]",
      "text/plain": [
       "<Figure size 640x480 with 1 Axes>"
      ]
     },
     "metadata": {},
     "output_type": "display_data"
    }
   ],
   "source": [
    "w_r, t_r = read_filt('filters/r.dat')\n",
    "plt.plot(w_r, t_r, label='r-band filter')"
   ]
  },
  {
   "cell_type": "code",
   "execution_count": null,
   "id": "4d9f1635",
   "metadata": {},
   "outputs": [],
   "source": [
    "def extract_photometry_with_errors(fits_path: str, filters: list):\n",
    "    \"\"\"Extract photometry (flux) in u, g, r, i-bands with errors using Monte Carlo propagation.\"\"\"\n",
    "    with fits.open(fits_path) as hdul:\n",
    "        flux_cube = hdul[0].data  # Flux datacube\n",
    "        error_cube = hdul[1].data  # Error datacube\n",
    "        header = hdul[0].header\n",
    "\n",
    "    if flux_cube.ndim != 3 or error_cube.ndim != 3:\n",
    "        raise ValueError(\"Input FITS file must contain 3D flux and error datacubes.\")\n",
    "\n",
    "    nz, ny, nx = flux_cube.shape\n",
    "\n",
    "    # Extract wavelength solution from WCS\n",
    "    #wcs = WCS(header)\n",
    "    wavelengths = header['CRVAL3']+ header['CDELT3']*np.arange(nz)\n",
    "    out_cube = np.zeros((2*len(filters), ny, nx))\n",
    "    out_hdu = fits.PrimaryHDU(data=out_cube)\n",
    "\n",
    "    for i,filts in enumerate(filters):\n",
    "        i2 = 2*i\n",
    "        dir = filts['dir']\n",
    "        name = filts['name']\n",
    "        file = filts['file']\n",
    "        out_hdu.header[f'DESC_{i}'] = name\n",
    "        out_hdu.header[f'DESC_{i2}'] = f'e_{name}'\n",
    "        w_r, t_r = read_filt(f'{dir}/{file}')\n",
    "        w_int = np.interp\n",
    "        band_fluxes = []\n",
    "        for _ in range(100):  # Monte Carlo iterations\n",
    "            perturbed_flux = flux_cube + np.random.normal(0, error_cube)\n",
    "            for j in range(ny):\n",
    "                for i in range(nx):\n",
    "                    print(i,j)\n",
    "                    spectrum = perturbed_flux[:,j,i]\n",
    "                    band_flux = filt.get_flux(wavelengths, spectrum * 10e-16 * unit['erg/s/cm**2/AA'])\n",
    "                    band_fluxes.append(band_flux)\n",
    "        photometry[band] = np.mean(band_fluxes)\n",
    "        errors[band] = np.std(band_fluxes)\n",
    "    return photometry, errors"
   ]
  },
  {
   "cell_type": "code",
   "execution_count": 55,
   "id": "3b7d33a5",
   "metadata": {},
   "outputs": [],
   "source": [
    "#lib = pyphot.get_library()\n",
    "#print(lib['SDSS_r'])\n",
    "#filters = {band: lib[band] for band in ['sdss_u', 'sdss_g', 'sdss_r', 'sdss_i']}\n"
   ]
  },
  {
   "cell_type": "code",
   "execution_count": 56,
   "id": "c55d5fd2",
   "metadata": {},
   "outputs": [],
   "source": [
    "hdu = fits.open('tables/KG_Pipe3D_table_COSMO.fits')\n",
    "tab_KG = Table(hdu[1].data)\n",
    "tab_KG.rename_column('name','org_name')\n",
    "tab_KG.rename_column('cubename','name')"
   ]
  },
  {
   "cell_type": "code",
   "execution_count": 57,
   "id": "6452fb21",
   "metadata": {},
   "outputs": [],
   "source": [
    "#tab_KG"
   ]
  },
  {
   "cell_type": "code",
   "execution_count": 58,
   "id": "886b3f68",
   "metadata": {},
   "outputs": [
    {
     "name": "stdout",
     "output_type": "stream",
     "text": [
      "[ 3622.   3623.5  3625.  ... 10348.  10349.5 10351. ] angstrom\n"
     ]
    },
    {
     "ename": "KeyboardInterrupt",
     "evalue": "",
     "output_type": "error",
     "traceback": [
      "\u001b[0;31m---------------------------------------------------------------------------\u001b[0m",
      "\u001b[0;31mAttributeError\u001b[0m                            Traceback (most recent call last)",
      "File \u001b[0;32m~/anaconda3/lib/python3.10/site-packages/pyphot/sandbox.py:180\u001b[0m, in \u001b[0;36mUnitFilter.set_wavelength_unit\u001b[0;34m(self, unit)\u001b[0m\n\u001b[1;32m    179\u001b[0m \u001b[38;5;28;01mtry\u001b[39;00m:   \u001b[38;5;66;03m# get units from the inputs\u001b[39;00m\n\u001b[0;32m--> 180\u001b[0m     \u001b[38;5;28mself\u001b[39m\u001b[38;5;241m.\u001b[39mwavelength_unit \u001b[38;5;241m=\u001b[39m \u001b[38;5;28mstr\u001b[39m(\u001b[38;5;28;43mself\u001b[39;49m\u001b[38;5;241;43m.\u001b[39;49m\u001b[43m_wavelength\u001b[49m\u001b[38;5;241;43m.\u001b[39;49m\u001b[43munit\u001b[49m)\n\u001b[1;32m    181\u001b[0m \u001b[38;5;28;01mexcept\u001b[39;00m \u001b[38;5;167;01mAttributeError\u001b[39;00m:\n",
      "\u001b[0;31mAttributeError\u001b[0m: 'numpy.ndarray' object has no attribute 'unit'",
      "\nDuring handling of the above exception, another exception occurred:\n",
      "\u001b[0;31mKeyboardInterrupt\u001b[0m                         Traceback (most recent call last)",
      "Cell \u001b[0;32mIn[58], line 15\u001b[0m\n\u001b[1;32m     12\u001b[0m \u001b[38;5;66;03m#    print(f'{fits_file}')\u001b[39;00m\n\u001b[1;32m     13\u001b[0m \u001b[38;5;66;03m#    try:\u001b[39;00m\n\u001b[1;32m     14\u001b[0m     \u001b[38;5;28;01mif\u001b[39;00m(os\u001b[38;5;241m.\u001b[39mpath\u001b[38;5;241m.\u001b[39misfile(fits_file)):\n\u001b[0;32m---> 15\u001b[0m         phot, e_phot \u001b[38;5;241m=\u001b[39m \u001b[43mextract_photometry_with_errors\u001b[49m\u001b[43m(\u001b[49m\u001b[43mfits_file\u001b[49m\u001b[43m)\u001b[49m\n\u001b[1;32m     16\u001b[0m         \u001b[38;5;28mprint\u001b[39m(\u001b[38;5;124mf\u001b[39m\u001b[38;5;124m'\u001b[39m\u001b[38;5;124mPhotometry for \u001b[39m\u001b[38;5;132;01m{\u001b[39;00mcubename\u001b[38;5;132;01m}\u001b[39;00m\u001b[38;5;124m: \u001b[39m\u001b[38;5;132;01m{\u001b[39;00mphot\u001b[38;5;132;01m}\u001b[39;00m\u001b[38;5;124m, Errors: \u001b[39m\u001b[38;5;132;01m{\u001b[39;00me_phot\u001b[38;5;132;01m}\u001b[39;00m\u001b[38;5;124m'\u001b[39m)\n\u001b[1;32m     17\u001b[0m \u001b[38;5;66;03m#    except:\u001b[39;00m\n\u001b[1;32m     18\u001b[0m \u001b[38;5;66;03m#        print('.',end='')\u001b[39;00m\n\u001b[1;32m     19\u001b[0m \u001b[38;5;66;03m#        print(f'file {fits_file} not found')\u001b[39;00m\n",
      "Cell \u001b[0;32mIn[54], line 44\u001b[0m, in \u001b[0;36mextract_photometry_with_errors\u001b[0;34m(fits_path)\u001b[0m\n\u001b[1;32m     42\u001b[0m         \u001b[38;5;28;01mfor\u001b[39;00m i \u001b[38;5;129;01min\u001b[39;00m \u001b[38;5;28mrange\u001b[39m(nx):\n\u001b[1;32m     43\u001b[0m             spectrum \u001b[38;5;241m=\u001b[39m perturbed_flux[:,j,i]\n\u001b[0;32m---> 44\u001b[0m             band_flux \u001b[38;5;241m=\u001b[39m \u001b[43mfilt\u001b[49m\u001b[38;5;241;43m.\u001b[39;49m\u001b[43mget_flux\u001b[49m\u001b[43m(\u001b[49m\u001b[43mwavelengths\u001b[49m\u001b[43m,\u001b[49m\u001b[43m \u001b[49m\u001b[43mspectrum\u001b[49m\u001b[43m \u001b[49m\u001b[38;5;241;43m*\u001b[39;49m\u001b[43m \u001b[49m\u001b[38;5;241;43m10e-16\u001b[39;49m\u001b[43m \u001b[49m\u001b[38;5;241;43m*\u001b[39;49m\u001b[43m \u001b[49m\u001b[43munit\u001b[49m\u001b[43m[\u001b[49m\u001b[38;5;124;43m'\u001b[39;49m\u001b[38;5;124;43merg/s/cm**2/AA\u001b[39;49m\u001b[38;5;124;43m'\u001b[39;49m\u001b[43m]\u001b[49m\u001b[43m)\u001b[49m\n\u001b[1;32m     45\u001b[0m             band_fluxes\u001b[38;5;241m.\u001b[39mappend(band_flux)\n\u001b[1;32m     46\u001b[0m photometry[band] \u001b[38;5;241m=\u001b[39m np\u001b[38;5;241m.\u001b[39mmean(band_fluxes)\n",
      "File \u001b[0;32m~/anaconda3/lib/python3.10/site-packages/pyphot/sandbox.py:92\u001b[0m, in \u001b[0;36mset_method_default_units.__call__.<locals>.wrapper\u001b[0;34m(filter_, slamb, sflux, *args, **kwargs)\u001b[0m\n\u001b[1;32m     88\u001b[0m _slamb \u001b[38;5;241m=\u001b[39m set_method_default_units\u001b[38;5;241m.\u001b[39mforce_units(slamb,\n\u001b[1;32m     89\u001b[0m                                               \u001b[38;5;28mself\u001b[39m\u001b[38;5;241m.\u001b[39mwavelength_unit)\n\u001b[1;32m     90\u001b[0m _sflux \u001b[38;5;241m=\u001b[39m set_method_default_units\u001b[38;5;241m.\u001b[39mforce_units(sflux,\n\u001b[1;32m     91\u001b[0m                                               \u001b[38;5;28mself\u001b[39m\u001b[38;5;241m.\u001b[39mflux_unit)\n\u001b[0;32m---> 92\u001b[0m output \u001b[38;5;241m=\u001b[39m \u001b[43mfunc\u001b[49m\u001b[43m(\u001b[49m\u001b[43mfilter_\u001b[49m\u001b[43m,\u001b[49m\u001b[43m \u001b[49m\u001b[43m_slamb\u001b[49m\u001b[43m,\u001b[49m\u001b[43m \u001b[49m\u001b[43m_sflux\u001b[49m\u001b[43m,\u001b[49m\u001b[43m \u001b[49m\u001b[38;5;241;43m*\u001b[39;49m\u001b[43margs\u001b[49m\u001b[43m,\u001b[49m\u001b[43m \u001b[49m\u001b[38;5;241;43m*\u001b[39;49m\u001b[38;5;241;43m*\u001b[39;49m\u001b[43mkwargs\u001b[49m\u001b[43m)\u001b[49m\n\u001b[1;32m     93\u001b[0m \u001b[38;5;28;01mreturn\u001b[39;00m set_method_default_units\u001b[38;5;241m.\u001b[39mforce_units(output,\n\u001b[1;32m     94\u001b[0m                                             \u001b[38;5;28mself\u001b[39m\u001b[38;5;241m.\u001b[39moutput_unit)\n",
      "File \u001b[0;32m~/anaconda3/lib/python3.10/site-packages/pyphot/sandbox.py:446\u001b[0m, in \u001b[0;36mUnitFilter.get_flux\u001b[0;34m(self, slamb, sflux, axis)\u001b[0m\n\u001b[1;32m    425\u001b[0m \u001b[38;5;129m@set_method_default_units\u001b[39m(\u001b[38;5;124m'\u001b[39m\u001b[38;5;124mAA\u001b[39m\u001b[38;5;124m'\u001b[39m, \u001b[38;5;124m'\u001b[39m\u001b[38;5;124mflam\u001b[39m\u001b[38;5;124m'\u001b[39m,\n\u001b[1;32m    426\u001b[0m                           output_unit\u001b[38;5;241m=\u001b[39m\u001b[38;5;124m'\u001b[39m\u001b[38;5;124merg*s**-1*cm**-2*AA**-1\u001b[39m\u001b[38;5;124m'\u001b[39m)\n\u001b[1;32m    427\u001b[0m \u001b[38;5;28;01mdef\u001b[39;00m \u001b[38;5;21mget_flux\u001b[39m(\u001b[38;5;28mself\u001b[39m, slamb, sflux, axis\u001b[38;5;241m=\u001b[39m\u001b[38;5;241m-\u001b[39m\u001b[38;5;241m1\u001b[39m):\n\u001b[1;32m    428\u001b[0m \u001b[38;5;250m    \u001b[39m\u001b[38;5;124;03m\"\"\"getFlux\u001b[39;00m\n\u001b[1;32m    429\u001b[0m \u001b[38;5;124;03m    Integrate the flux within the filter and return the integrated energy\u001b[39;00m\n\u001b[1;32m    430\u001b[0m \u001b[38;5;124;03m    If you consider applying the filter to many spectra, you might want to\u001b[39;00m\n\u001b[0;32m   (...)\u001b[0m\n\u001b[1;32m    444\u001b[0m \u001b[38;5;124;03m        Energy of the spectrum within the filter\u001b[39;00m\n\u001b[1;32m    445\u001b[0m \u001b[38;5;124;03m    \"\"\"\u001b[39;00m\n\u001b[0;32m--> 446\u001b[0m     passb \u001b[38;5;241m=\u001b[39m \u001b[38;5;28;43mself\u001b[39;49m\u001b[38;5;241;43m.\u001b[39;49m\u001b[43mreinterp\u001b[49m\u001b[43m(\u001b[49m\u001b[43mslamb\u001b[49m\u001b[43m)\u001b[49m\n\u001b[1;32m    447\u001b[0m     ifT \u001b[38;5;241m=\u001b[39m passb\u001b[38;5;241m.\u001b[39mtransmit\n\u001b[1;32m    448\u001b[0m     _slamb \u001b[38;5;241m=\u001b[39m _drop_units(slamb)\n",
      "File \u001b[0;32m~/anaconda3/lib/python3.10/site-packages/pyphot/sandbox.py:511\u001b[0m, in \u001b[0;36mUnitFilter.reinterp\u001b[0;34m(self, lamb)\u001b[0m\n\u001b[1;32m    509\u001b[0m     _unit \u001b[38;5;241m=\u001b[39m \u001b[38;5;28mself\u001b[39m\u001b[38;5;241m.\u001b[39mwavelength_unit\n\u001b[1;32m    510\u001b[0m ifT \u001b[38;5;241m=\u001b[39m np\u001b[38;5;241m.\u001b[39minterp(_lamb, _wavelength, \u001b[38;5;28mself\u001b[39m\u001b[38;5;241m.\u001b[39mtransmit, left\u001b[38;5;241m=\u001b[39m\u001b[38;5;241m0.\u001b[39m, right\u001b[38;5;241m=\u001b[39m\u001b[38;5;241m0.\u001b[39m)\n\u001b[0;32m--> 511\u001b[0m \u001b[38;5;28;01mreturn\u001b[39;00m \u001b[38;5;28;43mself\u001b[39;49m\u001b[38;5;241;43m.\u001b[39;49m\u001b[38;5;18;43m__class__\u001b[39;49m\u001b[43m(\u001b[49m\u001b[43m_lamb\u001b[49m\u001b[43m,\u001b[49m\u001b[43m \u001b[49m\u001b[43mifT\u001b[49m\u001b[43m,\u001b[49m\u001b[43m \u001b[49m\u001b[43mname\u001b[49m\u001b[38;5;241;43m=\u001b[39;49m\u001b[38;5;28;43mself\u001b[39;49m\u001b[38;5;241;43m.\u001b[39;49m\u001b[43mname\u001b[49m\u001b[43m,\u001b[49m\u001b[43m \u001b[49m\u001b[43mdtype\u001b[49m\u001b[38;5;241;43m=\u001b[39;49m\u001b[38;5;28;43mself\u001b[39;49m\u001b[38;5;241;43m.\u001b[39;49m\u001b[43mdtype\u001b[49m\u001b[43m,\u001b[49m\n\u001b[1;32m    512\u001b[0m \u001b[43m                      \u001b[49m\u001b[43munit\u001b[49m\u001b[38;5;241;43m=\u001b[39;49m\u001b[43m_unit\u001b[49m\u001b[43m)\u001b[49m\n",
      "File \u001b[0;32m~/anaconda3/lib/python3.10/site-packages/pyphot/sandbox.py:151\u001b[0m, in \u001b[0;36mUnitFilter.__init__\u001b[0;34m(self, wavelength, transmit, name, dtype, unit)\u001b[0m\n\u001b[1;32m    149\u001b[0m \u001b[38;5;28;01mexcept\u001b[39;00m \u001b[38;5;167;01mAttributeError\u001b[39;00m:\n\u001b[1;32m    150\u001b[0m     \u001b[38;5;28mself\u001b[39m\u001b[38;5;241m.\u001b[39m_wavelength \u001b[38;5;241m=\u001b[39m wavelength\n\u001b[0;32m--> 151\u001b[0m \u001b[38;5;28;43mself\u001b[39;49m\u001b[38;5;241;43m.\u001b[39;49m\u001b[43mset_wavelength_unit\u001b[49m\u001b[43m(\u001b[49m\u001b[43munit\u001b[49m\u001b[43m)\u001b[49m\n\u001b[1;32m    153\u001b[0m \u001b[38;5;66;03m# make sure input data are ordered and cleaned of weird values.\u001b[39;00m\n\u001b[1;32m    154\u001b[0m idx \u001b[38;5;241m=\u001b[39m np\u001b[38;5;241m.\u001b[39margsort(\u001b[38;5;28mself\u001b[39m\u001b[38;5;241m.\u001b[39m_wavelength)\n",
      "File \u001b[0;32m~/anaconda3/lib/python3.10/site-packages/pyphot/sandbox.py:180\u001b[0m, in \u001b[0;36mUnitFilter.set_wavelength_unit\u001b[0;34m(self, unit)\u001b[0m\n\u001b[1;32m    178\u001b[0m \u001b[38;5;250m\u001b[39m\u001b[38;5;124;03m\"\"\" Set the wavelength units \"\"\"\u001b[39;00m\n\u001b[1;32m    179\u001b[0m \u001b[38;5;28;01mtry\u001b[39;00m:   \u001b[38;5;66;03m# get units from the inputs\u001b[39;00m\n\u001b[0;32m--> 180\u001b[0m     \u001b[38;5;28mself\u001b[39m\u001b[38;5;241m.\u001b[39mwavelength_unit \u001b[38;5;241m=\u001b[39m \u001b[38;5;28mstr\u001b[39m(\u001b[38;5;28;43mself\u001b[39;49m\u001b[38;5;241;43m.\u001b[39;49m\u001b[43m_wavelength\u001b[49m\u001b[38;5;241;43m.\u001b[39;49m\u001b[43munit\u001b[49m)\n\u001b[1;32m    181\u001b[0m \u001b[38;5;28;01mexcept\u001b[39;00m \u001b[38;5;167;01mAttributeError\u001b[39;00m:\n\u001b[1;32m    182\u001b[0m     \u001b[38;5;28mself\u001b[39m\u001b[38;5;241m.\u001b[39mwavelength_unit \u001b[38;5;241m=\u001b[39m unit\n",
      "\u001b[0;31mKeyboardInterrupt\u001b[0m: "
     ]
    }
   ],
   "source": [
    "HP_dir = 'cubes'\n",
    "out_dir = 'images'\n",
    "x_pixel = -1\n",
    "y_pixel = -1\n",
    "radius = 2.5\n",
    "I = 0\n",
    "for tab_pe_now in tab_KG:\n",
    "    kgas_id = tab_pe_now['KGAS_ID']\n",
    "    cubename = tab_pe_now['name']\n",
    "    fits_file = f'{HP_dir}/{cubename}.cube.fits.gz'\n",
    "    out_file = f'{out_dir}/{cubename}.phot.cube.fits.gz'\n",
    "#    print(f'{fits_file}')\n",
    "#    try:\n",
    "    if(os.path.isfile(fits_file)):\n",
    "        phot, e_phot = extract_photometry_with_errors(fits_file)\n",
    "        print(f'Photometry for {cubename}: {phot}, Errors: {e_phot}')\n",
    "#    except:\n",
    "#        print('.',end='')\n",
    "#        print(f'file {fits_file} not found')\n",
    "    "
   ]
  },
  {
   "cell_type": "code",
   "execution_count": null,
   "id": "55da270c",
   "metadata": {},
   "outputs": [],
   "source": []
  },
  {
   "cell_type": "code",
   "execution_count": 65,
   "id": "ea3072b4",
   "metadata": {},
   "outputs": [
    {
     "data": {
      "text/html": [
       "<div><i>Table length=2</i>\n",
       "<table id=\"table139988733515216\" class=\"table-striped table-bordered table-condensed\">\n",
       "<thead><tr><th>KGAS_ID</th><th>cubename</th><th>OH_Mar13_N2</th><th>e_OH_Mar13_N2</th><th>OH_Mar13_O3N2</th><th>e_OH_Mar13_O3N2</th><th>OH_T04</th><th>e_OH_T04</th><th>OH_Pet04_N2_lin</th><th>e_OH_Pet04_N2_lin</th><th>OH_Pet04_N2_poly</th><th>e_OH_Pet04_N2_poly</th><th>OH_Pet04_O3N2</th><th>e_OH_Pet04_O3N2</th><th>OH_Kew02_N2O2</th><th>e_OH_Kew02_N2O2</th><th>OH_Pil10_ONS</th><th>e_OH_Pil10_ONS</th><th>OH_Pil10_ON</th><th>e_OH_Pil10_ON</th><th>OH_Pil11_NS</th><th>e_OH_Pil11_NS</th><th>OH_Cur20_RS32</th><th>e_OH_Cur20_RS32</th><th>OH_Cur20_R3</th><th>e_OH_Cur20_R3</th><th>OH_Cur20_O3O2</th><th>e_OH_Cur20_O3O2</th><th>OH_Cur20_S2</th><th>e_OH_Cur20_S2</th><th>OH_Cur20_R2</th><th>e_OH_Cur20_R2</th><th>OH_Cur20_N2</th><th>e_OH_Cur20_N2</th><th>OH_Cur20_R23</th><th>e_OH_Cur20_R23</th><th>OH_Cur20_O3N2</th><th>e_OH_Cur20_O3N2</th><th>OH_Cur20_O3S2</th><th>e_OH_Cur20_O3S2</th><th>OH_KK04</th><th>e_OH_KK04</th><th>OH_Pil16_R</th><th>e_OH_Pil16_R</th><th>OH_Pil16_S</th><th>e_OH_Pil16_S</th><th>OH_Ho</th><th>e_OH_Ho</th><th>U_Dors_O32</th><th>e_U_Dors_O32</th><th>U_Dors_S</th><th>e_U_Dors_S</th><th>U_Mor16_O23_fs</th><th>e_U_Mor16_O23_fs</th><th>U_Mor16_O23_ts</th><th>e_U_Mor16_O23_ts</th><th>NH_Pil16_R</th><th>e_NH_Pil16_R</th><th>NO_Pil16_R</th><th>e_NO_Pil16_R</th><th>NO_Pil16_Ho_R</th><th>e_NO_Pil16_Ho_R</th><th>NO_Pil16_N2_R2</th><th>e_NO_Pil16_N2_R2</th><th>Ne_Oster_S</th><th>e_Ne_Oster_S</th></tr></thead>\n",
       "<thead><tr><th>str32</th><th>str32</th><th>float64</th><th>float64</th><th>float64</th><th>float64</th><th>float64</th><th>float64</th><th>float64</th><th>float64</th><th>float64</th><th>float64</th><th>float64</th><th>float64</th><th>float64</th><th>float64</th><th>float64</th><th>float64</th><th>float64</th><th>float64</th><th>float64</th><th>float64</th><th>float64</th><th>float64</th><th>float64</th><th>float64</th><th>float64</th><th>float64</th><th>float64</th><th>float64</th><th>float64</th><th>float64</th><th>float64</th><th>float64</th><th>float64</th><th>float64</th><th>float64</th><th>float64</th><th>float64</th><th>float64</th><th>float64</th><th>float64</th><th>float64</th><th>float64</th><th>float64</th><th>float64</th><th>float64</th><th>float64</th><th>float64</th><th>float64</th><th>float64</th><th>float64</th><th>float64</th><th>float64</th><th>float64</th><th>float64</th><th>float64</th><th>float64</th><th>float64</th><th>float64</th><th>float64</th><th>float64</th><th>float64</th><th>float64</th><th>float64</th><th>float64</th></tr></thead>\n",
       "<tr><td>12</td><td>KG-MaNGA-1-207</td><td>8.5753632379292</td><td>0.003549391259805714</td><td>8.572184857925178</td><td>0.008552770236032533</td><td>8.978600358749311</td><td>0.01820402770528188</td><td>8.69319809165041</td><td>0.0043791190867732265</td><td>8.785283619673885</td><td>0.0094127247807326</td><td>8.788596058903781</td><td>0.01278918913799262</td><td>9.0135620565163</td><td>0.011192440448948297</td><td>8.555838041114987</td><td>0.02618471041311439</td><td>8.527847073515714</td><td>0.01327222775596582</td><td>8.562432357093746</td><td>0.02229953346477361</td><td>8.765434686590428</td><td>0.007307117699262778</td><td>8.760476073774091</td><td>0.009752132004800594</td><td>8.7610574704522</td><td>0.014468730914328069</td><td>8.80005965262807</td><td>0.004599210117056093</td><td>8.732206420520171</td><td>0.01416860236239637</td><td>nan</td><td>nan</td><td>8.750763943449043</td><td>0.014353758085153748</td><td>8.78321326812787</td><td>0.007706595932569729</td><td>8.591409394096662</td><td>0.012847592298063062</td><td>9.012592590587468</td><td>0.004449679907441386</td><td>8.601169616627796</td><td>0.0273756129691791</td><td>8.607369723372827</td><td>0.029551528992148485</td><td>8.685726849334138</td><td>0.01010048091028509</td><td>3.204798817197163</td><td>0.05535272007026338</td><td>3.1783890747461667</td><td>0.015308108286288076</td><td>4.521782884751032</td><td>0.10707575357854224</td><td>3.6473895520939625</td><td>0.04537108202480604</td><td>7.803262560034606</td><td>0.034826134004807364</td><td>0.7990785470675421</td><td>0.038044820984934946</td><td>0.8831972423003025</td><td>0.027729003813181167</td><td>0.8052649519396551</td><td>0.01869716238570224</td><td>nan</td><td>nan</td></tr>\n",
       "<tr><td>88</td><td>KG-SAMI-107214</td><td>8.565644451565905</td><td>0.031703663404094966</td><td>8.530244578009965</td><td>0.07656598457652761</td><td>8.836541720475255</td><td>0.6874826700768103</td><td>8.66663413195799</td><td>0.03170232630175917</td><td>8.7334637596757</td><td>0.06206223893610948</td><td>8.717471743393153</td><td>0.10681836436833243</td><td>8.960536022396104</td><td>0.205819693749103</td><td>8.535043309070122</td><td>0.13549258203180348</td><td>8.526614676058893</td><td>0.14142649451261727</td><td>8.48293223648539</td><td>0.09514907774543023</td><td>8.68194433086156</td><td>0.07169329287839607</td><td>8.68732431729941</td><td>0.07914484892227826</td><td>8.636602718919372</td><td>0.11163056768820026</td><td>nan</td><td>nan</td><td>8.752943930708868</td><td>0.044175712686181784</td><td>nan</td><td>nan</td><td>8.660370057021032</td><td>0.09541555463950659</td><td>8.725068406680355</td><td>0.05528522333835733</td><td>nan</td><td>nan</td><td>8.896260622934408</td><td>0.4060146345937089</td><td>8.547848836318655</td><td>0.15037124082777117</td><td>8.485893978912243</td><td>0.15818920673444292</td><td>8.651614459171974</td><td>0.1383572087590511</td><td>3.042697293650371</td><td>0.5843773395329404</td><td>3.4947854998967265</td><td>0.3045712305028793</td><td>4.225156596934311</td><td>1.1304348535227369</td><td>3.5092771407240666</td><td>0.47899781928929536</td><td>7.757760355249231</td><td>0.3915391315460497</td><td>0.8185979849387319</td><td>0.3668084182044452</td><td>0.9208500808746102</td><td>0.29479985836312406</td><td>0.8792875051699577</td><td>0.2634338492250751</td><td>2.8800643684284783</td><td>0.5572222891383989</td></tr>\n",
       "</table></div>"
      ],
      "text/plain": [
       "<Table length=2>\n",
       "KGAS_ID    cubename       OH_Mar13_N2       e_OH_Mar13_N2       OH_Mar13_O3N2   ...   e_NO_Pil16_Ho_R      NO_Pil16_N2_R2     e_NO_Pil16_N2_R2      Ne_Oster_S        e_Ne_Oster_S   \n",
       " str32      str32           float64            float64             float64      ...       float64             float64             float64            float64            float64      \n",
       "------- -------------- ----------------- -------------------- ----------------- ... -------------------- ------------------ ------------------- ------------------ ------------------\n",
       "     12 KG-MaNGA-1-207   8.5753632379292 0.003549391259805714 8.572184857925178 ... 0.027729003813181167 0.8052649519396551 0.01869716238570224                nan                nan\n",
       "     88 KG-SAMI-107214 8.565644451565905 0.031703663404094966 8.530244578009965 ...  0.29479985836312406 0.8792875051699577  0.2634338492250751 2.8800643684284783 0.5572222891383989"
      ]
     },
     "execution_count": 65,
     "metadata": {},
     "output_type": "execute_result"
    }
   ],
   "source": [
    "tab_OH_cen"
   ]
  },
  {
   "cell_type": "code",
   "execution_count": 69,
   "id": "2e0c9fcb",
   "metadata": {},
   "outputs": [],
   "source": [
    "tab_OH_cen.write('tables/tab_OH_cen_test.ecsv',overwrite=True,delimiter=',')\n"
   ]
  },
  {
   "cell_type": "code",
   "execution_count": null,
   "id": "8f180173",
   "metadata": {},
   "outputs": [],
   "source": [
    "tab_"
   ]
  }
 ],
 "metadata": {
  "kernelspec": {
   "display_name": "base",
   "language": "python",
   "name": "python3"
  },
  "language_info": {
   "codemirror_mode": {
    "name": "ipython",
    "version": 3
   },
   "file_extension": ".py",
   "mimetype": "text/x-python",
   "name": "python",
   "nbconvert_exporter": "python",
   "pygments_lexer": "ipython3",
   "version": "3.10.9"
  }
 },
 "nbformat": 4,
 "nbformat_minor": 5
}
