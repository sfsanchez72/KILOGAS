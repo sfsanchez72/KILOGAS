{
 "cells": [
  {
   "cell_type": "code",
   "execution_count": 3,
   "id": "c5345a37",
   "metadata": {},
   "outputs": [
    {
     "name": "stdout",
     "output_type": "stream",
     "text": [
      "2.2.0\n",
      "2.2.0\n"
     ]
    }
   ],
   "source": [
    "%matplotlib inline\n",
    "import numpy as np\n",
    "import pandas as pd\n",
    "from pylab import *\n",
    "import matplotlib\n",
    "#import plplot\n",
    "from scipy import stats\n",
    "#from io import StringIO\n",
    "print(pd.__version__)\n",
    "#AttributeError: 'Series' object has no attribute 'to_numpy'\n",
    "import re\n",
    "\n",
    "import math\n",
    "import astropy as astro\n",
    "import scipy.ndimage as spimage\n",
    "from astropy.io import fits, ascii\n",
    "from astropy.table import Table, join\n",
    "from astropy.cosmology import WMAP9 as cosmo\n",
    "import matplotlib as mpl\n",
    "#from numpy import std as biweight_midvariance\n",
    "import matplotlib.cm as cm\n",
    "\n",
    "from scipy import optimize\n",
    "from scipy.stats import gaussian_kde\n",
    "from matplotlib import colors\n",
    "import scipy.ndimage as ndimage\n",
    "from collections import Counter\n",
    "from matplotlib.legend import Legend\n",
    "import matplotlib.patches as patches\n",
    "from matplotlib import pyplot\n",
    "#\n",
    "#\n",
    "#\n",
    "import extinction\n",
    "\n",
    "\n",
    "#\n",
    "# seaborn\n",
    "#import pandas.util.testing as tm\n",
    "import seaborn as sns\n",
    "\n",
    "#\n",
    "# Jorge\n",
    "#\n",
    "\n",
    "from sel2dhist_xy import sel2dhist_xy\n",
    "\n",
    "\n",
    "#\n",
    "# 3D plots!\n",
    "#\n",
    "import numpy as np\n",
    "import scipy.linalg\n",
    "from mpl_toolkits.mplot3d import Axes3D\n",
    "import matplotlib.pyplot as plt\n",
    "\n",
    "#biweight_midvariance\n",
    "\n",
    "\n",
    "import warnings\n",
    "warnings.simplefilter(\"ignore\")\n",
    "\n",
    "#\n",
    "# my_utils\n",
    "#\n",
    "from my_utils import *\n",
    "\n",
    "#\n",
    "#\n",
    "#\n",
    "from ndtest import *\n",
    "from sklearn.decomposition import PCA\n",
    "\n",
    "#\n",
    "#\n",
    "#\n",
    "from scipy.optimize import leastsq, fmin\n",
    "import matplotlib.animation as animation\n",
    "\n",
    "#\n",
    "# Carlos Color map\n",
    "#\n",
    "from cmaps_CLC import vel_map\n",
    "\n",
    "def search_col(tab,key):\n",
    "    for cols in tab.columns:\n",
    "        if (cols.find(key)>-1):\n",
    "            print(cols)\n"
   ]
  },
  {
   "cell_type": "code",
   "execution_count": 4,
   "id": "2b56bd32",
   "metadata": {},
   "outputs": [],
   "source": [
    "from matplotlib import rcParams as rc\n",
    "rc.update({'font.size': 20,\\\n",
    "           'font.weight': 900,\\\n",
    "           'text.usetex': True,\\\n",
    "           'path.simplify'           :   True,\\\n",
    "           'xtick.labelsize' : 20,\\\n",
    "           'ytick.labelsize' : 20,\\\n",
    "#           'xtick.major.size' : 3.5,\\\n",
    "#           'ytick.major.size' : 3.5,\\\n",
    "           'axes.linewidth'  : 2.0,\\\n",
    "               # Increase the tick-mark lengths (defaults are 4 and 2)\n",
    "           'xtick.major.size'        :   6,\\\n",
    "           'ytick.major.size'        :   6,\\\n",
    "           'xtick.minor.size'        :   3,\\\n",
    "           'ytick.minor.size'        :   3,\\\n",
    "           'xtick.major.width'       :   1,\\\n",
    "           'ytick.major.width'       :   1,\\\n",
    "           'lines.markeredgewidth'   :   1,\\\n",
    "           'legend.numpoints'        :   1,\\\n",
    "           'xtick.minor.width'       :   1,\\\n",
    "           'ytick.minor.width'       :   1,\\\n",
    "           'legend.frameon'          :   False,\\\n",
    "           'legend.handletextpad'    :   0.3,\\\n",
    "           'font.family'    :   'serif',\\\n",
    "           'mathtext.fontset'        :   'stix',\\\n",
    "           'axes.facecolor' : \"w\",\\\n",
    "           \n",
    "          })\n"
   ]
  },
  {
   "cell_type": "code",
   "execution_count": 5,
   "id": "97095a1f",
   "metadata": {},
   "outputs": [],
   "source": [
    "get_mag_cubes_SAMI=\"tables/get_mag_cubes_SAMI_KG_reshift.csv\"\n",
    "col_mag_cubes_SAMI=header_columns_space(get_mag_cubes_SAMI,2)\n",
    "tab_mag_SAMI=ascii.read(get_mag_cubes_SAMI, delimiter=',', \\\n",
    "                        guess=True, comment='\\s*#', names=col_mag_cubes_SAMI,\\\n",
    "                      fill_values=[('BAD', np.nan)])\n",
    "cubenames=[]\n",
    "for name in tab_mag_SAMI['name-obj']:\n",
    "    name = name.replace('SAMI','SAMI-')\n",
    "    name = 'KG-'+name\n",
    "    cubenames.append(name)\n",
    "cubenames = np.array(cubenames)\n",
    "tab_mag_SAMI['cubename'] = cubenames"
   ]
  },
  {
   "cell_type": "code",
   "execution_count": 6,
   "id": "846c7f17",
   "metadata": {},
   "outputs": [],
   "source": [
    "tab_KG_sel = Table.read('tables/tab_KG_sel_add.ecsv')"
   ]
  },
  {
   "cell_type": "code",
   "execution_count": 7,
   "id": "8ff9528b",
   "metadata": {},
   "outputs": [
    {
     "data": {
      "text/html": [
       "&lt;Column name=&apos;cubename&apos; dtype=&apos;str14&apos; length=169&gt;\n",
       "<table>\n",
       "<tr><td>KG-SAMI-15847</td></tr>\n",
       "<tr><td>KG-SAMI-16026</td></tr>\n",
       "<tr><td>KG-SAMI-16487</td></tr>\n",
       "<tr><td>KG-SAMI-197866</td></tr>\n",
       "<tr><td>KG-SAMI-202398</td></tr>\n",
       "<tr><td>KG-SAMI-202399</td></tr>\n",
       "<tr><td>KG-SAMI-202480</td></tr>\n",
       "<tr><td>KG-SAMI-202531</td></tr>\n",
       "<tr><td>KG-SAMI-202636</td></tr>\n",
       "<tr><td>...</td></tr>\n",
       "<tr><td>KG-SAMI-91627</td></tr>\n",
       "<tr><td>KG-SAMI-91689</td></tr>\n",
       "<tr><td>KG-SAMI-92944</td></tr>\n",
       "<tr><td>KG-SAMI-93020</td></tr>\n",
       "<tr><td>KG-SAMI-93023</td></tr>\n",
       "<tr><td>KG-SAMI-93062</td></tr>\n",
       "<tr><td>KG-SAMI-93604</td></tr>\n",
       "<tr><td>KG-SAMI-93674</td></tr>\n",
       "<tr><td>KG-SAMI-107214</td></tr>\n",
       "</table>"
      ],
      "text/plain": [
       "<Column name='cubename' dtype='str14' length=169>\n",
       " KG-SAMI-15847\n",
       " KG-SAMI-16026\n",
       " KG-SAMI-16487\n",
       "KG-SAMI-197866\n",
       "KG-SAMI-202398\n",
       "KG-SAMI-202399\n",
       "KG-SAMI-202480\n",
       "KG-SAMI-202531\n",
       "KG-SAMI-202636\n",
       "           ...\n",
       " KG-SAMI-91627\n",
       " KG-SAMI-91689\n",
       " KG-SAMI-92944\n",
       " KG-SAMI-93020\n",
       " KG-SAMI-93023\n",
       " KG-SAMI-93062\n",
       " KG-SAMI-93604\n",
       " KG-SAMI-93674\n",
       "KG-SAMI-107214"
      ]
     },
     "execution_count": 7,
     "metadata": {},
     "output_type": "execute_result"
    }
   ],
   "source": [
    "tab_mag_SAMI['cubename']"
   ]
  },
  {
   "cell_type": "code",
   "execution_count": 8,
   "id": "adcf74bf",
   "metadata": {},
   "outputs": [
    {
     "data": {
      "text/html": [
       "&lt;Column name=&apos;cubename&apos; dtype=&apos;str17&apos; length=452&gt;\n",
       "<table>\n",
       "<tr><td>KG-MaNGA-1-178894</td></tr>\n",
       "<tr><td>KG-MaNGA-1-179173</td></tr>\n",
       "<tr><td>KG-MaNGA-1-179071</td></tr>\n",
       "<tr><td>KG-MaNGA-1-178794</td></tr>\n",
       "<tr><td>KG-MaNGA-1-54940</td></tr>\n",
       "<tr><td>KG-MaNGA-1-277</td></tr>\n",
       "<tr><td>KG-MaNGA-1-55227</td></tr>\n",
       "<tr><td>KG-MaNGA-1-954</td></tr>\n",
       "<tr><td>KG-MaNGA-1-383</td></tr>\n",
       "<tr><td>...</td></tr>\n",
       "<tr><td>KG-MaNGA-1-82991</td></tr>\n",
       "<tr><td>KG-MaNGA-1-412631</td></tr>\n",
       "<tr><td>KG-MaNGA-1-383589</td></tr>\n",
       "<tr><td>KG-MaNGA-1-460434</td></tr>\n",
       "<tr><td>KG-MaNGA-1-383612</td></tr>\n",
       "<tr><td>KG-MaNGA-1-383608</td></tr>\n",
       "<tr><td>KG-MaNGA-1-383040</td></tr>\n",
       "<tr><td>KG-MaNGA-1-383050</td></tr>\n",
       "<tr><td>KG-MaNGA-1-412207</td></tr>\n",
       "</table>"
      ],
      "text/plain": [
       "<Column name='cubename' dtype='str17' length=452>\n",
       "KG-MaNGA-1-178894\n",
       "KG-MaNGA-1-179173\n",
       "KG-MaNGA-1-179071\n",
       "KG-MaNGA-1-178794\n",
       " KG-MaNGA-1-54940\n",
       "   KG-MaNGA-1-277\n",
       " KG-MaNGA-1-55227\n",
       "   KG-MaNGA-1-954\n",
       "   KG-MaNGA-1-383\n",
       "              ...\n",
       " KG-MaNGA-1-82991\n",
       "KG-MaNGA-1-412631\n",
       "KG-MaNGA-1-383589\n",
       "KG-MaNGA-1-460434\n",
       "KG-MaNGA-1-383612\n",
       "KG-MaNGA-1-383608\n",
       "KG-MaNGA-1-383040\n",
       "KG-MaNGA-1-383050\n",
       "KG-MaNGA-1-412207"
      ]
     },
     "execution_count": 8,
     "metadata": {},
     "output_type": "execute_result"
    }
   ],
   "source": [
    "tab_KG_sel['cubename']"
   ]
  },
  {
   "cell_type": "code",
   "execution_count": 10,
   "id": "b1b53dc1",
   "metadata": {},
   "outputs": [
    {
     "name": "stdout",
     "output_type": "stream",
     "text": [
      "169\n"
     ]
    }
   ],
   "source": [
    "tab_join = join(tab_mag_SAMI,tab_KG_sel,\\\n",
    "                    keys=['cubename'],join_type='left')\n",
    "print(len(tab_join))"
   ]
  },
  {
   "cell_type": "code",
   "execution_count": 11,
   "id": "9bd44588",
   "metadata": {},
   "outputs": [
    {
     "name": "stdout",
     "output_type": "stream",
     "text": [
      "name-obj                   B_band_mag                 Pa                         error_Mass_phot.           \n",
      "redshift                   B_band_mag_error           R50                        nRe                        \n",
      "error_redshift             B_band_abs_mag             error_R50                  V-band_SB_at_Re            \n",
      "u_band_mag                 B_band_abs_mag_error       R90                        error_V-band_SB_at_Re      \n",
      "u_band_mag_error           V_band_mag                 error_R90                  V-band_SB_at_R_50          \n",
      "u_band_abs_mag             V_band_mag_error           C                          error_V-band_SB_at_R_50    \n",
      "u_band_abs_mag_error       V_band_abs_mag             error_C                    cubename                   \n",
      "g_band_mag                 V_band_abs_mag_error       SN_at_Re                   KGAS_ID                    \n",
      "g_band_mag_error           R_band_mag                 error_SN_at_Re             IAUNAME                    \n",
      "g_band_abs_mag             R_band_mag_error           SN_integrated              RA                         \n",
      "g_band_abs_mag_error       R_band_abs_mag             SN_at_R50                  DEC                        \n",
      "r_band_mag                 R_band_abs_mag_error       error_SN_at_R50            Z                          \n",
      "r_band_mag_error           X_centroid                 R_50                       R50_ARCSEC                 \n",
      "r_band_abs_mag             Y_centroid                 error_Re1                  PETRO_PHI50                \n",
      "r_band_abs_mag_error       Re                         B-V                        PETRO_BA50                 \n",
      "i_band_mag                 error_Re                   error_B-V                  PA                         \n",
      "i_band_mag_error           mean_S/N_at_Re             B-R                        BA                         \n",
      "i_band_abs_mag             sigma_S/N_at_Re            error_B-R                                             \n",
      "i_band_abs_mag_error       ellipticy                  log10_Mass/Msun_phot.                                 \n"
     ]
    }
   ],
   "source": [
    "list_columns(tab_join.columns)"
   ]
  },
  {
   "cell_type": "code",
   "execution_count": 12,
   "id": "f112c291",
   "metadata": {},
   "outputs": [
    {
     "data": {
      "text/plain": [
       "<matplotlib.collections.PathCollection at 0x7f59a445e7a0>"
      ]
     },
     "execution_count": 12,
     "metadata": {},
     "output_type": "execute_result"
    },
    {
     "data": {
      "image/png": "[encoded data removed]",
      "text/plain": [
       "<Figure size 640x480 with 1 Axes>"
      ]
     },
     "metadata": {},
     "output_type": "display_data"
    }
   ],
   "source": [
    "plt.scatter(tab_join['redshift'],tab_join['Z'])"
   ]
  },
  {
   "cell_type": "code",
   "execution_count": null,
   "id": "c17e85a0",
   "metadata": {},
   "outputs": [],
   "source": []
  }
 ],
 "metadata": {
  "kernelspec": {
   "display_name": "Python 3 (ipykernel)",
   "language": "python",
   "name": "python3"
  },
  "language_info": {
   "codemirror_mode": {
    "name": "ipython",
    "version": 3
   },
   "file_extension": ".py",
   "mimetype": "text/x-python",
   "name": "python",
   "nbconvert_exporter": "python",
   "pygments_lexer": "ipython3",
   "version": "3.10.9"
  }
 },
 "nbformat": 4,
 "nbformat_minor": 5
}
